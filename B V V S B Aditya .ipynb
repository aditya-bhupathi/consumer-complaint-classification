{
 "cells": [
  {
   "cell_type": "markdown",
   "id": "25cdac2e",
   "metadata": {},
   "source": [
    "# Consumer Complaints Text Classification\n",
    "\n",
    "This notebook performs multi-class text classification on the **Consumer Complaint Dataset**.\n",
    "\n",
    "Categories considered:\n",
    "- 0: Credit reporting, repair, or other\n",
    "- 1: Debt collection\n",
    "- 2: Consumer Loan\n",
    "- 3: Mortgage\n",
    "\n",
    "Models used:\n",
    "- Logistic Regression\n",
    "- Linear SVM (LinearSVC)\n",
    "- Multinomial Naive Bayes\n"
   ]
  },
  {
   "cell_type": "code",
   "execution_count": 1,
   "id": "00b3b8da",
   "metadata": {},
   "outputs": [
    {
     "name": "stderr",
     "output_type": "stream",
     "text": [
      "WARNING: Ignoring invalid distribution -cipy (c:\\users\\aditya\\appdata\\local\\programs\\python\\python310\\lib\\site-packages)\n",
      "WARNING: Ignoring invalid distribution -cipy (c:\\users\\aditya\\appdata\\local\\programs\\python\\python310\\lib\\site-packages)\n",
      "WARNING: Ignoring invalid distribution -cipy (c:\\users\\aditya\\appdata\\local\\programs\\python\\python310\\lib\\site-packages)\n",
      "WARNING: Ignoring invalid distribution -cipy (c:\\users\\aditya\\appdata\\local\\programs\\python\\python310\\lib\\site-packages)\n",
      "WARNING: Ignoring invalid distribution -cipy (c:\\users\\aditya\\appdata\\local\\programs\\python\\python310\\lib\\site-packages)\n",
      "WARNING: Ignoring invalid distribution -cipy (c:\\users\\aditya\\appdata\\local\\programs\\python\\python310\\lib\\site-packages)\n",
      "WARNING: You are using pip version 21.2.3; however, version 25.2 is available.\n",
      "You should consider upgrading via the 'C:\\Users\\ADITYA\\AppData\\Local\\Programs\\Python\\Python310\\python.exe -m pip install --upgrade pip' command.\n",
      "[nltk_data] Downloading package stopwords to\n",
      "[nltk_data]     C:\\Users\\ADITYA\\AppData\\Roaming\\nltk_data...\n",
      "[nltk_data]   Package stopwords is already up-to-date!\n",
      "[nltk_data] Downloading package wordnet to\n",
      "[nltk_data]     C:\\Users\\ADITYA\\AppData\\Roaming\\nltk_data...\n",
      "[nltk_data]   Package wordnet is already up-to-date!\n",
      "[nltk_data] Downloading package omw-1.4 to\n",
      "[nltk_data]     C:\\Users\\ADITYA\\AppData\\Roaming\\nltk_data...\n",
      "[nltk_data]   Package omw-1.4 is already up-to-date!\n"
     ]
    },
    {
     "data": {
      "text/plain": [
       "True"
      ]
     },
     "execution_count": 1,
     "metadata": {},
     "output_type": "execute_result"
    }
   ],
   "source": [
    "# Install required packages if needed\n",
    "!pip install pandas scikit-learn matplotlib seaborn nltk joblib imbalanced-learn tqdm --quiet\n",
    "import nltk\n",
    "nltk.download('stopwords')\n",
    "nltk.download('wordnet')\n",
    "nltk.download('omw-1.4')"
   ]
  },
  {
   "cell_type": "code",
   "execution_count": 2,
   "id": "660eac98",
   "metadata": {},
   "outputs": [],
   "source": [
    "import os, re, string, glob\n",
    "import pandas as pd\n",
    "import numpy as np\n",
    "import matplotlib.pyplot as plt\n",
    "import seaborn as sns\n",
    "from tqdm import tqdm\n",
    "tqdm.pandas()\n",
    "\n",
    "from nltk.corpus import stopwords\n",
    "from nltk.stem import WordNetLemmatizer\n",
    "\n",
    "stop_words = set(stopwords.words('english'))\n",
    "lemmatizer = WordNetLemmatizer()\n",
    "\n",
    "# Paths (adjust base_dir to your split CSVs)\n",
    "base_dir = \"./splits\"  # folder where your 23 parts are\n",
    "part_pattern = \"Consumer_Complaints_part\"\n",
    "filtered_output = \"complaints_filtered_all.csv\"\n",
    "use_filtered_cache = True\n",
    "max_per_class = 30000  # sample size per class to fit in memory\n",
    "random_state = 42\n",
    "\n",
    "keep_categories = [\n",
    "    \"Credit reporting, credit repair services, or other personal consumer reports\",\n",
    "    \"Debt collection\",\n",
    "    \"Consumer Loan\",\n",
    "    \"Mortgage\"\n",
    "]\n",
    "\n",
    "category_map = {\n",
    "    \"Credit reporting, credit repair services, or other personal consumer reports\": 0,\n",
    "    \"Debt collection\": 1,\n",
    "    \"Consumer Loan\": 2,\n",
    "    \"Mortgage\": 3\n",
    "}\n",
    "\n",
    "def clean_text(text):\n",
    "    if not isinstance(text, str):\n",
    "        return \"\"\n",
    "    text = text.lower()\n",
    "    text = re.sub(r'http\\S+|www\\S+|https\\S+', ' ', text)\n",
    "    text = re.sub(r'[^a-z\\s]', ' ', text)\n",
    "    tokens = text.split()\n",
    "    tokens = [t for t in tokens if t not in stop_words and len(t) > 1]\n",
    "    tokens = [lemmatizer.lemmatize(t) for t in tokens]\n",
    "    return \" \".join(tokens)"
   ]
  },
  {
   "cell_type": "markdown",
   "id": "8a7b9b1b",
   "metadata": {},
   "source": [
    "## Step 1 — Create consolidated filtered CSV from parts"
   ]
  },
  {
   "cell_type": "code",
   "execution_count": 3,
   "id": "8a53c5d7",
   "metadata": {},
   "outputs": [
    {
     "name": "stdout",
     "output_type": "stream",
     "text": [
      "Found 23 part files.\n",
      "Using cached filtered file: complaints_filtered_all.csv\n"
     ]
    }
   ],
   "source": [
    "parts = sorted(glob.glob(os.path.join(base_dir, f\"{part_pattern}*.csv\")))\n",
    "print(f\"Found {len(parts)} part files.\")\n",
    "\n",
    "if not use_filtered_cache or not os.path.exists(filtered_output):\n",
    "    written = False\n",
    "    for i, p in enumerate(parts, start=1):\n",
    "        print(f\"Processing {i}/{len(parts)}: {p}\")\n",
    "        for chunk in pd.read_csv(p, chunksize=200_000, iterator=True, encoding='utf-8', low_memory=True):\n",
    "            cols = [c for c in ['Consumer complaint narrative', 'Product'] if c in chunk.columns]\n",
    "            chunk = chunk[cols]\n",
    "            sub = chunk[chunk['Product'].isin(keep_categories)]\n",
    "            if sub.shape[0] > 0:\n",
    "                mode = 'w' if not written else 'a'\n",
    "                header = not written\n",
    "                sub.to_csv(filtered_output, index=False, mode=mode, header=header)\n",
    "                written = True\n",
    "    print(\"Filtered consolidated file created:\", filtered_output)\n",
    "else:\n",
    "    print(\"Using cached filtered file:\", filtered_output)"
   ]
  },
  {
   "cell_type": "markdown",
   "id": "4b5ca132",
   "metadata": {},
   "source": [
    "## Step 2 — Load filtered CSV and EDA"
   ]
  },
  {
   "cell_type": "code",
   "execution_count": 4,
   "id": "227c394d",
   "metadata": {
    "scrolled": true
   },
   "outputs": [
    {
     "name": "stdout",
     "output_type": "stream",
     "text": [
      "Rows after filter: 1314725\n",
      "Product\n",
      "Credit reporting, credit repair services, or other personal consumer reports    807277\n",
      "Debt collection                                                                 364007\n",
      "Mortgage                                                                        133980\n",
      "Consumer Loan                                                                     9461\n",
      "Name: count, dtype: int64\n"
     ]
    },
    {
     "name": "stderr",
     "output_type": "stream",
     "text": [
      "C:\\Users\\ADITYA\\AppData\\Local\\Temp\\ipykernel_7868\\2513480616.py:7: DeprecationWarning: DataFrameGroupBy.apply operated on the grouping columns. This behavior is deprecated, and in a future version of pandas the grouping columns will be excluded from the operation. Either pass `include_groups=False` to exclude the groupings or explicitly select the grouping columns after groupby to silence this warning.\n",
      "  df_sampled = df.groupby('Product', group_keys=False).apply(\n"
     ]
    },
    {
     "name": "stdout",
     "output_type": "stream",
     "text": [
      "After sampling: Product\n",
      "Credit reporting, credit repair services, or other personal consumer reports    30000\n",
      "Debt collection                                                                 30000\n",
      "Mortgage                                                                        30000\n",
      "Consumer Loan                                                                    9461\n",
      "Name: count, dtype: int64\n"
     ]
    },
    {
     "name": "stderr",
     "output_type": "stream",
     "text": [
      "100%|███████████████████████████████████████████████████████████████████████████| 99461/99461 [01:49<00:00, 909.49it/s]\n"
     ]
    },
    {
     "name": "stdout",
     "output_type": "stream",
     "text": [
      "           text_len\n",
      "count  99461.000000\n",
      "mean     106.159480\n",
      "std      133.498849\n",
      "min        1.000000\n",
      "25%       35.000000\n",
      "50%       69.000000\n",
      "75%      129.000000\n",
      "max     3480.000000\n"
     ]
    },
    {
     "data": {
      "image/png": "[encoded data removed]",
      "text/plain": [
       "<Figure size 640x480 with 1 Axes>"
      ]
     },
     "metadata": {},
     "output_type": "display_data"
    },
    {
     "data": {
      "image/png": "[encoded data removed]",
      "text/plain": [
       "<Figure size 640x480 with 1 Axes>"
      ]
     },
     "metadata": {},
     "output_type": "display_data"
    }
   ],
   "source": [
    "df = pd.read_csv(filtered_output, usecols=['Consumer complaint narrative', 'Product'])\n",
    "df = df.dropna(subset=['Consumer complaint narrative']).reset_index(drop=True)\n",
    "print(\"Rows after filter:\", len(df))\n",
    "print(df['Product'].value_counts())\n",
    "\n",
    "# Sample per class\n",
    "df_sampled = df.groupby('Product', group_keys=False).apply(\n",
    "    lambda g: g.sample(n=min(len(g), max_per_class), random_state=random_state)\n",
    ").reset_index(drop=True)\n",
    "print(\"After sampling:\", df_sampled['Product'].value_counts())\n",
    "\n",
    "df_sampled['label'] = df_sampled['Product'].map(category_map)\n",
    "df_sampled['clean_text'] = df_sampled['Consumer complaint narrative'].progress_apply(clean_text)\n",
    "\n",
    "# Quick EDA\n",
    "df_sampled['text_len'] = df_sampled['clean_text'].apply(lambda s: len(s.split()))\n",
    "print(df_sampled[['text_len']].describe())\n",
    "\n",
    "sns.countplot(x='label', data=df_sampled)\n",
    "plt.title(\"Class counts\")\n",
    "plt.show()\n",
    "\n",
    "sns.histplot(df_sampled['text_len'], bins=50)\n",
    "plt.title(\"Text length distribution\")\n",
    "plt.show()"
   ]
  },
  {
   "cell_type": "markdown",
   "id": "032b39eb",
   "metadata": {},
   "source": [
    "## Step 3 — Train/Test Split + TF-IDF"
   ]
  },
  {
   "cell_type": "code",
   "execution_count": 5,
   "id": "6ae677bd",
   "metadata": {},
   "outputs": [
    {
     "name": "stdout",
     "output_type": "stream",
     "text": [
      "TF-IDF shapes: (79568, 20000) (19893, 20000)\n"
     ]
    }
   ],
   "source": [
    "from sklearn.model_selection import train_test_split\n",
    "from sklearn.feature_extraction.text import TfidfVectorizer\n",
    "\n",
    "X = df_sampled['clean_text'].values\n",
    "y = df_sampled['label'].values\n",
    "X_train_text, X_test_text, y_train, y_test = train_test_split(X, y, test_size=0.2,\n",
    "                                                              stratify=y, random_state=random_state)\n",
    "\n",
    "tfidf = TfidfVectorizer(max_features=20000, ngram_range=(1,2), min_df=5)\n",
    "X_train = tfidf.fit_transform(X_train_text)\n",
    "X_test = tfidf.transform(X_test_text)\n",
    "print(\"TF-IDF shapes:\", X_train.shape, X_test.shape)"
   ]
  },
  {
   "cell_type": "markdown",
   "id": "f7bb2539",
   "metadata": {},
   "source": [
    "## Step 4 — Train Models (LogReg, LinearSVC, NB, RF)"
   ]
  },
  {
   "cell_type": "code",
   "execution_count": 9,
   "id": "e54e1e81",
   "metadata": {},
   "outputs": [
    {
     "name": "stdout",
     "output_type": "stream",
     "text": [
      "Training LogisticRegression\n",
      "LogisticRegression: acc=0.8924, f1_macro=0.8768\n",
      "              precision    recall  f1-score   support\n",
      "\n",
      "           0     0.8651    0.8870    0.8759      6000\n",
      "           1     0.8720    0.8652    0.8686      6000\n",
      "           2     0.8481    0.7639    0.8038      1893\n",
      "           3     0.9525    0.9657    0.9590      6000\n",
      "\n",
      "    accuracy                         0.8924     19893\n",
      "   macro avg     0.8844    0.8704    0.8768     19893\n",
      "weighted avg     0.8919    0.8924    0.8919     19893\n",
      "\n",
      "--------------------------------------------------\n",
      "Training LinearSVC\n",
      "LinearSVC: acc=0.8900, f1_macro=0.8745\n",
      "              precision    recall  f1-score   support\n",
      "\n",
      "           0     0.8688    0.8820    0.8754      6000\n",
      "           1     0.8664    0.8605    0.8635      6000\n",
      "           2     0.8294    0.7755    0.8015      1893\n",
      "           3     0.9521    0.9637    0.9578      6000\n",
      "\n",
      "    accuracy                         0.8900     19893\n",
      "   macro avg     0.8792    0.8704    0.8745     19893\n",
      "weighted avg     0.8895    0.8900    0.8896     19893\n",
      "\n",
      "--------------------------------------------------\n",
      "Training MultinomialNB\n",
      "MultinomialNB: acc=0.8532, f1_macro=0.8310\n",
      "              precision    recall  f1-score   support\n",
      "\n",
      "           0     0.8583    0.8302    0.8440      6000\n",
      "           1     0.8523    0.8020    0.8264      6000\n",
      "           2     0.7786    0.6947    0.7342      1893\n",
      "           3     0.8681    0.9773    0.9195      6000\n",
      "\n",
      "    accuracy                         0.8532     19893\n",
      "   macro avg     0.8393    0.8260    0.8310     19893\n",
      "weighted avg     0.8519    0.8532    0.8510     19893\n",
      "\n",
      "--------------------------------------------------\n"
     ]
    }
   ],
   "source": [
    "from sklearn.linear_model import LogisticRegression\n",
    "from sklearn.svm import LinearSVC\n",
    "from sklearn.naive_bayes import MultinomialNB\n",
    "from sklearn.ensemble import RandomForestClassifier\n",
    "from sklearn.metrics import classification_report, accuracy_score, f1_score\n",
    "import joblib\n",
    "\n",
    "models = {\n",
    "    \"LogisticRegression\": LogisticRegression(max_iter=1000, solver='saga', n_jobs=-1, random_state=random_state),\n",
    "    \"LinearSVC\": LinearSVC(max_iter=5000, random_state=random_state),\n",
    "    \"MultinomialNB\": MultinomialNB(),\n",
    "}\n",
    "\n",
    "results = {}\n",
    "for name, clf in models.items():\n",
    "    print(\"Training\", name)\n",
    "    clf.fit(X_train, y_train)\n",
    "    y_pred = clf.predict(X_test)\n",
    "    acc = accuracy_score(y_test, y_pred)\n",
    "    f1 = f1_score(y_test, y_pred, average='macro')\n",
    "    results[name] = {'model': clf, 'accuracy': acc, 'f1': f1}\n",
    "    print(f\"{name}: acc={acc:.4f}, f1_macro={f1:.4f}\")\n",
    "    print(classification_report(y_test, y_pred, digits=4))\n",
    "    print(\"-\"*50)"
   ]
  },
  {
   "cell_type": "markdown",
   "id": "770e66d0",
   "metadata": {},
   "source": [
    "## Step 5 — Model Comparison and Save Best"
   ]
  },
  {
   "cell_type": "code",
   "execution_count": 10,
   "id": "247c3991",
   "metadata": {},
   "outputs": [
    {
     "name": "stdout",
     "output_type": "stream",
     "text": [
      "                    accuracy        f1\n",
      "model                                 \n",
      "LogisticRegression  0.892424  0.876822\n",
      "LinearSVC           0.890012  0.874545\n",
      "MultinomialNB       0.853164  0.831028\n"
     ]
    },
    {
     "data": {
      "image/png": "[encoded data removed]",
      "text/plain": [
       "<Figure size 700x400 with 1 Axes>"
      ]
     },
     "metadata": {},
     "output_type": "display_data"
    },
    {
     "name": "stdout",
     "output_type": "stream",
     "text": [
      "Best model: LogisticRegression\n"
     ]
    },
    {
     "data": {
      "text/plain": [
       "['best_model_LogisticRegression.joblib']"
      ]
     },
     "execution_count": 10,
     "metadata": {},
     "output_type": "execute_result"
    }
   ],
   "source": [
    "res_df = pd.DataFrame([\n",
    "    {'model': k, 'accuracy': v['accuracy'], 'f1': v['f1']}\n",
    "    for k,v in results.items()\n",
    "]).set_index('model').sort_values('f1', ascending=False)\n",
    "print(res_df)\n",
    "\n",
    "res_df.plot(kind='bar', figsize=(7,4), ylim=(0,1))\n",
    "plt.title(\"Model Comparison\")\n",
    "plt.show()\n",
    "\n",
    "best_name = res_df.index[0]\n",
    "best_model = results[best_name]['model']\n",
    "print(\"Best model:\", best_name)\n",
    "\n",
    "joblib.dump(tfidf, \"tfidf_vectorizer.joblib\")\n",
    "joblib.dump(best_model, f\"best_model_{best_name}.joblib\")"
   ]
  },
  {
   "cell_type": "markdown",
   "id": "01b47596",
   "metadata": {},
   "source": [
    "## Step 6 — Predictions"
   ]
  },
  {
   "cell_type": "code",
   "execution_count": 11,
   "id": "8abe40a1",
   "metadata": {},
   "outputs": [
    {
     "name": "stdout",
     "output_type": "stream",
     "text": [
      "['Credit reporting, credit repair services, or other personal consumer reports', 'Debt collection', 'Mortgage', 'Mortgage']\n"
     ]
    }
   ],
   "source": [
    "inv_map = {v:k for k,v in category_map.items()}\n",
    "\n",
    "def predict_texts(texts):\n",
    "    clean = [clean_text(t) for t in texts]\n",
    "    Xv = tfidf.transform(clean)\n",
    "    preds = best_model.predict(Xv)\n",
    "    return [inv_map[int(p)] for p in preds]\n",
    "\n",
    "samples = [\n",
    "    \"I found errors on my credit report and it lowered my score.\",\n",
    "    \"I get calls from a debt collector about a loan I never took.\",\n",
    "    \"My consumer loan application was denied despite good credit.\",\n",
    "    \"My mortgage servicer charged me an incorrect fee.\"\n",
    "]\n",
    "print(predict_texts(samples))"
   ]
  },
  {
   "cell_type": "code",
   "execution_count": null,
   "id": "0c852de1-34e5-4ac1-bc02-4bfa8ee2f741",
   "metadata": {},
   "outputs": [],
   "source": []
  }
 ],
 "metadata": {
  "kernelspec": {
   "display_name": "Python 3 (ipykernel)",
   "language": "python",
   "name": "python3"
  },
  "language_info": {
   "codemirror_mode": {
    "name": "ipython",
    "version": 3
   },
   "file_extension": ".py",
   "mimetype": "text/x-python",
   "name": "python",
   "nbconvert_exporter": "python",
   "pygments_lexer": "ipython3",
   "version": "3.10.0"
  }
 },
 "nbformat": 4,
 "nbformat_minor": 5
}
